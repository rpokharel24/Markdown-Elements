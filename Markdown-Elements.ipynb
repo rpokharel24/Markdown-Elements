{
 "cells": [
  {
   "cell_type": "markdown",
   "id": "d91179e9-9956-4e54-865c-1dab4084e3cb",
   "metadata": {},
   "source": [
    "### Markdown Elements"
   ]
  },
  {
   "cell_type": "code",
   "execution_count": null,
   "id": "641513f8-8122-4e37-bb5c-cb0ab09d4f8e",
   "metadata": {},
   "outputs": [],
   "source": [
    "There are various elements of the Markdown. However, some of the important elements are listed below:"
   ]
  },
  {
   "cell_type": "code",
   "execution_count": null,
   "id": "7bd73061-7657-4bbc-b043-7350a12e5623",
   "metadata": {},
   "outputs": [],
   "source": [
    "1. Heading: \n",
    "Single # is used while writing the Heading: When we write the content we give the heading of the content first where single # should write. \n",
    "Double # (##) is used for sub-heading of any contents. \n",
    "Tripple # (###) should be used for sub-sub heading. "
   ]
  },
  {
   "cell_type": "code",
   "execution_count": null,
   "id": "8116a78c-2420-4a10-9809-9467181ddbfb",
   "metadata": {},
   "outputs": [],
   "source": [
    "2. Bold\n",
    "Double * before the content and after the content without gap should be given in the bold items content. For example: I got a **surprising** message from one of my best friend. "
   ]
  },
  {
   "cell_type": "code",
   "execution_count": null,
   "id": "c43f4cd8-7c6e-46fe-a911-51a97576dfd7",
   "metadata": {},
   "outputs": [],
   "source": [
    "3. Italic\n",
    "The single * should be used before and after the conent without space/gap. For example: *the italic text required* in both sides."
   ]
  },
  {
   "cell_type": "code",
   "execution_count": null,
   "id": "c7adfff7-9b23-490d-97ba-de7c2614229d",
   "metadata": {},
   "outputs": [],
   "source": [
    "4. Blockquote\n",
    ">Be the change you want to see in the world. "
   ]
  },
  {
   "cell_type": "code",
   "execution_count": null,
   "id": "51c19ced-76bd-48d4-93f4-ee367d46aa7e",
   "metadata": {},
   "outputs": [],
   "source": [
    "5. Unordered list\n",
    "- Tea\n",
    "- Sugar\n",
    "- Coffee"
   ]
  },
  {
   "cell_type": "code",
   "execution_count": null,
   "id": "b1478417-c4c9-46d3-a4f8-7b12f2ac521e",
   "metadata": {},
   "outputs": [],
   "source": [
    "6. Ordered list\n",
    "a. Tea\n",
    "b. Sugar\n",
    "c. Coffee"
   ]
  },
  {
   "cell_type": "code",
   "execution_count": null,
   "id": "7bd0999e-d3ce-4e19-af99-07ca98baed62",
   "metadata": {},
   "outputs": [],
   "source": [
    "7. Horizontal line\n",
    "If we type -----, a long horizontal line will be made. "
   ]
  },
  {
   "cell_type": "code",
   "execution_count": null,
   "id": "1d9c0e12-040d-4a66-a992-c53a822c61b2",
   "metadata": {},
   "outputs": [],
   "source": [
    "8. Link\n",
    "[Google(https://www.google.com)]"
   ]
  },
  {
   "cell_type": "code",
   "execution_count": null,
   "id": "80b5811f-c5b7-446e-a867-984ee7bcdfdd",
   "metadata": {},
   "outputs": [],
   "source": [
    "9. Image\n",
    "![google logo](https://pbs.twing.com/profile images/xxx.jpg)"
   ]
  },
  {
   "cell_type": "markdown",
   "id": "ab80a0cc-d576-4bc2-a558-b3451b63760b",
   "metadata": {},
   "source": [
    "### Extended Syntax"
   ]
  },
  {
   "cell_type": "code",
   "execution_count": null,
   "id": "82bf75b6-9653-4c86-b083-c78eb04cd9a4",
   "metadata": {},
   "outputs": [],
   "source": [
    "1. Table\n",
    "| Role No. |   Student Name  |\n",
    "| ---------|-----------------|\n",
    "| 1 | Jay Prakash Ojha |\n",
    "| 2 | Ram Prasad Das   |"
   ]
  },
  {
   "cell_type": "code",
   "execution_count": null,
   "id": "c5ce1cdf-d731-498b-b6fc-a6a62949a5a2",
   "metadata": {},
   "outputs": [],
   "source": [
    "2. Fenced code block\n",
    "***\n",
    "{\n",
    "  \"testthis\":213\n",
    "}\n",
    "***"
   ]
  },
  {
   "cell_type": "code",
   "execution_count": null,
   "id": "5c4c9645-a066-4070-82d6-c60a3a20f091",
   "metadata": {},
   "outputs": [],
   "source": [
    "3. Strikeout\n",
    "~~this will be striked out~~"
   ]
  },
  {
   "cell_type": "code",
   "execution_count": null,
   "id": "a2c88634-4042-491b-8fbf-e9d14d424ea6",
   "metadata": {},
   "outputs": [],
   "source": [
    "4. Task list\n",
    "[x] This is a task\n",
    "[] Study nlp"
   ]
  },
  {
   "cell_type": "code",
   "execution_count": null,
   "id": "ef348690-aafe-4f84-8cbd-b004440d96cf",
   "metadata": {},
   "outputs": [],
   "source": [
    "5. Highlighting\n",
    "I want to ==highight== this stuff"
   ]
  }
 ],
 "metadata": {
  "kernelspec": {
   "display_name": "Python 3 (ipykernel)",
   "language": "python",
   "name": "python3"
  },
  "language_info": {
   "codemirror_mode": {
    "name": "ipython",
    "version": 3
   },
   "file_extension": ".py",
   "mimetype": "text/x-python",
   "name": "python",
   "nbconvert_exporter": "python",
   "pygments_lexer": "ipython3",
   "version": "3.12.4"
  }
 },
 "nbformat": 4,
 "nbformat_minor": 5
}
